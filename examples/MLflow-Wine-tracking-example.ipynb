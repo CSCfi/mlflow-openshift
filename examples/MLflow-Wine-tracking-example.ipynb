{
 "cells": [
  {
   "cell_type": "markdown",
   "metadata": {},
   "source": [
    "# MLflow Wine - tracking example for Rahti"
   ]
  },
  {
   "cell_type": "markdown",
   "metadata": {},
   "source": [
    "This notebook demonstrate how to track machine learning training metrics to your MLflow Tracking Server in CSC Rahti container cloud.\n",
    "This notebook utilizes machine learning project packaged as MLflow Projects format, and stored in [Github](https://github.com/mlflow/mlflow-example).\n",
    "\n",
    "After you have set up your MLflow Tracking Server to Rahti, you can use this notebook to test it.\n",
    "First set up environment variables needed to connect Tracking server. After that, run all python codes and go check results in your Tracking server web ui. You can modify `alpha` hyperparameter to see what values yields best results.\n"
   ]
  },
  {
   "cell_type": "markdown",
   "metadata": {},
   "source": [
    "---"
   ]
  },
  {
   "cell_type": "markdown",
   "metadata": {},
   "source": [
    "## First: set up variables "
   ]
  },
  {
   "cell_type": "markdown",
   "metadata": {},
   "source": [
    "For Conda based environment, run this once at the beginning:"
   ]
  },
  {
   "cell_type": "code",
   "execution_count": null,
   "metadata": {},
   "outputs": [],
   "source": [
    "!conda env config vars set MLFLOW_TRACKING_URI=\n",
    "!conda env config vars set MLFLOW_TRACKING_USERNAME=\n",
    "!conda env config vars set MLFLOW_TRACKING_PASSWORD=\n",
    "\n",
    "!conda env config vars set MLFLOW_S3_ENDPOINT_URL=\n",
    "!conda env config vars set AWS_ACCESS_KEY_ID=\n",
    "!conda env config vars set AWS_SECRET_ACCESS_KEY="
   ]
  },
  {
   "cell_type": "markdown",
   "metadata": {},
   "source": [
    "To make your changes take effect please reactivate your environment. After that you can check everything is as it should with command:"
   ]
  },
  {
   "cell_type": "code",
   "execution_count": null,
   "metadata": {},
   "outputs": [],
   "source": [
    "!conda env config vars list"
   ]
  },
  {
   "cell_type": "markdown",
   "metadata": {},
   "source": [
    "When output seems to be ok, you can comment out above two code cells."
   ]
  },
  {
   "cell_type": "markdown",
   "metadata": {},
   "source": [
    "---"
   ]
  },
  {
   "cell_type": "markdown",
   "metadata": {},
   "source": [
    "## Second: set up hyperparameter."
   ]
  },
  {
   "cell_type": "code",
   "execution_count": null,
   "metadata": {},
   "outputs": [],
   "source": [
    "parameter = {\n",
    "  \"alpha\": 5.0\n",
    "}"
   ]
  },
  {
   "cell_type": "markdown",
   "metadata": {},
   "source": [
    "---"
   ]
  },
  {
   "cell_type": "markdown",
   "metadata": {},
   "source": [
    "## Third: track the metrics"
   ]
  },
  {
   "cell_type": "markdown",
   "metadata": {},
   "source": [
    "Run following cells to utilize MLflow Wine example for tracking metrics to your Tracking server"
   ]
  },
  {
   "cell_type": "code",
   "execution_count": null,
   "metadata": {},
   "outputs": [],
   "source": [
    "import mlflow"
   ]
  },
  {
   "cell_type": "code",
   "execution_count": null,
   "metadata": {},
   "outputs": [],
   "source": [
    "mlflow.set_experiment(\"MLflow-Run-Wine\")"
   ]
  },
  {
   "cell_type": "code",
   "execution_count": null,
   "metadata": {},
   "outputs": [],
   "source": [
    "uri = \"https://github.com/mlflow/mlflow-example\"\n",
    "mlflow.run(uri, entry_point='main', version=None, parameters=parameter, docker_args=None, \n",
    "                    experiment_name=\"MLflow-Run-Wine\", backend='local', backend_config=None, use_conda=False, \n",
    "                    storage_dir=\"./temp\", synchronous=True, run_id=None)"
   ]
  },
  {
   "cell_type": "markdown",
   "metadata": {},
   "source": [
    "Run metrics should appear in your MLflow Tracking server"
   ]
  },
  {
   "cell_type": "code",
   "execution_count": null,
   "metadata": {},
   "outputs": [],
   "source": []
  }
 ],
 "metadata": {
  "kernelspec": {
   "display_name": "Python 3",
   "language": "python",
   "name": "python3"
  },
  "language_info": {
   "codemirror_mode": {
    "name": "ipython",
    "version": 3
   },
   "file_extension": ".py",
   "mimetype": "text/x-python",
   "name": "python",
   "nbconvert_exporter": "python",
   "pygments_lexer": "ipython3",
   "version": "3.7.6"
  }
 },
 "nbformat": 4,
 "nbformat_minor": 4
}