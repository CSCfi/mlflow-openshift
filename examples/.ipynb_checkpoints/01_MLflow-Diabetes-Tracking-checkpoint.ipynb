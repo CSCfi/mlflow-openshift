{
 "cells": [
  {
   "cell_type": "markdown",
   "id": "cd3a64cd-ff86-41e7-94e6-c4bc0f336e29",
   "metadata": {},
   "source": [
    "# MLflow Diabetes regression- tracking example for Rahti\n",
    "\n",
    "This notebook quickly demonstrates how to use MLflow application run in CSC Rahti container cloud to track machine learning training metrics.\n",
    "\n",
    "After you have set up your MLflow application to Rahti, you can use this notebook to test it. First set up environment variables needed to connect Tracking server. After that, run all python codes and go check results in your Tracking server web ui. \n",
    "\n",
    "The model uses scikit-learns Random Forest Regressor. More information here: https://scikit-learn.org/stable/modules/generated/sklearn.ensemble.RandomForestRegressor.html\n",
    "\n",
    "For more information see original tutorial and other documents here: https://mlflow.org/docs/latest/quickstart.html\n"
   ]
  },
  {
   "cell_type": "markdown",
   "id": "5880e61d-b581-4de1-bc5e-f6e8952589db",
   "metadata": {},
   "source": [
    "---"
   ]
  },
  {
   "cell_type": "markdown",
   "id": "8c7dcd1b-2972-482f-b9b4-cc3a56fca53b",
   "metadata": {},
   "source": [
    "## Step 1: set up variables \n",
    "For Conda based environment, fill the variables and run the cell below once:"
   ]
  },
  {
   "cell_type": "code",
   "execution_count": null,
   "id": "196f1f9d-0348-45d1-b291-9b1accf68381",
   "metadata": {},
   "outputs": [],
   "source": [
    "!conda env config vars set MLFLOW_TRACKING_URI=https://<YOUR_APP_NAME>.rahtiapp.fi\n",
    "!conda env config vars set MLFLOW_TRACKING_USERNAME=your_username\n",
    "!conda env config vars set MLFLOW_TRACKING_PASSWORD=your_password\n",
    "\n",
    "!conda env config vars set MLFLOW_S3_ENDPOINT_URL=https://<YOUR_APP_NAME>-minio.rahtiapp.fi\n",
    "!conda env config vars set AWS_ACCESS_KEY_ID=your_generated_access_key\n",
    "!conda env config vars set AWS_SECRET_ACCESS_KEY=your_generated_secret_key"
   ]
  },
  {
   "cell_type": "markdown",
   "id": "7e287710-f272-440f-b2b7-b4bd8c36ff16",
   "metadata": {},
   "source": [
    "To make your changes take effect please reactivate your Conda environment. After that you can check everything is as it should with command:"
   ]
  },
  {
   "cell_type": "code",
   "execution_count": 27,
   "id": "a54bfa44-25aa-499c-9b28-97654879dbed",
   "metadata": {},
   "outputs": [
    {
     "name": "stdout",
     "output_type": "stream",
     "text": [
      "MLFLOW_TRACKING_URI = https://mlflow-example.rahtiapp.fi/\n",
      "MLFLOW_TRACKING_USERNAME = test\n",
      "MLFLOW_TRACKING_PASSWORD = test\n",
      "MLFLOW_S3_ENDPOINT_URL = https://mlflow-example-minio.rahtiapp.fi/\n",
      "AWS_ACCESS_KEY_ID = 6QSN0RF3HDF4EWE\n",
      "AWS_SECRET_ACCESS_KEY = 30A7NQNKDVTAHJV\n"
     ]
    }
   ],
   "source": [
    "!conda env config vars list"
   ]
  },
  {
   "cell_type": "markdown",
   "id": "bcadbf27-4cb6-4d2c-b164-04ee36c3b354",
   "metadata": {},
   "source": [
    "## Step 2: import libraries\n",
    "This step requires that you have the packages installed in your environment before importing."
   ]
  },
  {
   "cell_type": "code",
   "execution_count": 28,
   "id": "03bcf9c6-54ef-47c5-b2a3-222d4a74598a",
   "metadata": {},
   "outputs": [],
   "source": [
    "import mlflow\n",
    "import boto3\n",
    "\n",
    "from sklearn.model_selection import train_test_split\n",
    "from sklearn.datasets import load_diabetes\n",
    "from sklearn.ensemble import RandomForestRegressor"
   ]
  },
  {
   "cell_type": "markdown",
   "id": "d38d8453-3ff0-483b-91e6-981e589b3c79",
   "metadata": {},
   "source": [
    "## Step 3: run the model and store results to MLflow"
   ]
  },
  {
   "cell_type": "code",
   "execution_count": 29,
   "id": "26ec2dea-15cf-42fb-adba-27bac380e647",
   "metadata": {},
   "outputs": [
    {
     "name": "stdout",
     "output_type": "stream",
     "text": [
      "<Experiment: artifact_location='s3://default/4', creation_time=1690284838068, experiment_id='4', last_update_time=1690284838068, lifecycle_stage='active', name='diabetes_dataset', tags={}>\n"
     ]
    }
   ],
   "source": [
    "# Create new experiment, under which the runs are saved for \n",
    "experiment_id = mlflow.set_experiment('diabetes_dataset')\n",
    "print(experiment_id)"
   ]
  },
  {
   "cell_type": "code",
   "execution_count": 30,
   "id": "fea70776-782f-4956-9b91-5e3e9aefd868",
   "metadata": {},
   "outputs": [
    {
     "name": "stderr",
     "output_type": "stream",
     "text": [
      "2023/07/31 10:53:30 WARNING mlflow.utils.autologging_utils: Encountered unexpected error during sklearn autologging: The following failures occurred while performing one or more logging operations: [MlflowException('Failed to perform one or more operations on the run with ID 189a89c99caf4bac8d816bfa47de82a3. Failed operations: [MlflowException(\"API request to endpoint /api/2.0/mlflow/runs/log-inputs failed with error code 404 != 200. Response body: \\'<!doctype html>\\\\n<html lang=en>\\\\n<title>404 Not Found</title>\\\\n<h1>Not Found</h1>\\\\n<p>The requested URL was not found on the server. If you entered the URL manually please check your spelling and try again.</p>\\\\n\\'\")]')]\n"
     ]
    },
    {
     "name": "stdout",
     "output_type": "stream",
     "text": [
      "[108.16931411  99.49467906 189.53190614 146.59192162 159.92766597\n",
      " 105.20423274 151.64472005 219.61144337 157.87936655 241.42520979\n",
      " 145.25654901 157.75019007 159.96008273 192.82223993 107.33998598\n",
      " 202.83046635 188.26101874 127.91090203 153.60140425 232.19902093\n",
      " 227.5053228  162.86470146 189.21076445 181.83154091 264.34250689\n",
      " 238.30675831 184.01923866 169.78031593 103.30753202 156.44570199\n",
      " 174.61939788 105.32922029 186.48059657 113.057587    95.25539723\n",
      "  89.35620926  95.96793403  98.97175417 102.12731024 161.28100174\n",
      "  89.38576064 106.78702307 149.97180987  95.16899347 181.09151932\n",
      " 114.59090179 175.85658494 216.34926917 246.05716653 143.1099221\n",
      " 230.78466145 159.46448426 100.21456059 150.57236045 154.90232866\n",
      " 142.21261974 164.24994669  93.31367334 199.17452982 169.0146804\n",
      " 258.20572902 191.71389627 279.90122484 188.90214455 131.07634091\n",
      "  95.40935648 232.94406379  87.19946333 215.59647699 182.45286516\n",
      " 135.21900938 242.76574163  91.64654221 256.06197565 205.84137287\n",
      " 195.29582741 182.46521638 131.79694896  83.81916343  87.98060497\n",
      " 118.17422013 183.31912824 277.82332918  93.76989409 259.39069764\n",
      " 181.23168713  99.47798019 153.80317236 205.398867   173.61057164\n",
      " 218.87252089 218.92427368 179.67778403 207.12523213 151.58554781\n",
      " 133.1585561   82.41146452 217.65954782  89.54978706 146.62573789\n",
      "  99.41787145 171.57864876 165.8240891  136.0889228  269.49698575\n",
      " 229.12664793  85.7020551  196.96745049 238.73191796 124.58050085\n",
      " 212.41885794]\n"
     ]
    }
   ],
   "source": [
    "with mlflow.start_run():\n",
    "\n",
    "    # Load and split data \n",
    "    db = load_diabetes()\n",
    "    X_train, X_test, y_train, y_test = train_test_split(db.data, db.target)\n",
    "    \n",
    "    # Set the parameters, change to see different results\n",
    "    n_estimators = 100\n",
    "    max_depth = 6\n",
    "    max_features = 3\n",
    "    \n",
    "    # Create and train model\n",
    "    rf = RandomForestRegressor(n_estimators=n_estimators, max_depth=max_depth, max_features=max_features)\n",
    "    rf.fit(X_train, y_train)\n",
    "    \n",
    "    # Use the model to make predictions on the test dataset\n",
    "    predictions = rf.predict(X_test)\n",
    "    print(predictions)\n",
    "    \n",
    "    mlflow.sklearn.log_model(rf, \"diabetes-model\")"
   ]
  },
  {
   "cell_type": "markdown",
   "id": "8b44129d-b8be-4d00-a07b-261602c16a80",
   "metadata": {},
   "source": [
    "Run metrics should appear in your MLflow Tracking server --> `https://<YOUR_APP_NAME>.rahtiapp.fi`"
   ]
  },
  {
   "cell_type": "code",
   "execution_count": null,
   "id": "39e87437-4444-464d-94d6-339450b0bba3",
   "metadata": {},
   "outputs": [],
   "source": []
  }
 ],
 "metadata": {
  "kernelspec": {
   "display_name": "Python 3 (ipykernel)",
   "language": "python",
   "name": "python3"
  },
  "language_info": {
   "codemirror_mode": {
    "name": "ipython",
    "version": 3
   },
   "file_extension": ".py",
   "mimetype": "text/x-python",
   "name": "python",
   "nbconvert_exporter": "python",
   "pygments_lexer": "ipython3",
   "version": "3.10.12"
  }
 },
 "nbformat": 4,
 "nbformat_minor": 5
}
