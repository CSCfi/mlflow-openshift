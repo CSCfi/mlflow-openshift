{
 "cells": [
  {
   "cell_type": "markdown",
   "id": "cd3a64cd-ff86-41e7-94e6-c4bc0f336e29",
   "metadata": {},
   "source": [
    "# MLflow Diabetes regression- tracking example for Rahti\n",
    "\n",
    "This notebook quickly demonstrates how to use MLflow application run in CSC Rahti container cloud to track machine learning training metrics.\n",
    "\n",
    "After you have set up your MLflow application to Rahti, you can use this notebook to test it. First set up environment variables needed to connect Tracking server. After that, run all python codes and go check results in your Tracking server web ui. \n",
    "\n",
    "The model uses scikit-learns Random Forest Regressor. More information here: https://scikit-learn.org/stable/modules/generated/sklearn.ensemble.RandomForestRegressor.html\n",
    "\n",
    "For more information see original tutorial and other documents here: https://mlflow.org/docs/latest/quickstart.html\n"
   ]
  },
  {
   "cell_type": "markdown",
   "id": "5880e61d-b581-4de1-bc5e-f6e8952589db",
   "metadata": {},
   "source": [
    "---"
   ]
  },
  {
   "cell_type": "markdown",
   "id": "8c7dcd1b-2972-482f-b9b4-cc3a56fca53b",
   "metadata": {},
   "source": [
    "## Step 1: set up variables \n",
    "For Conda based environment, fill the variables and run the cell below once:"
   ]
  },
  {
   "cell_type": "code",
   "execution_count": null,
   "id": "196f1f9d-0348-45d1-b291-9b1accf68381",
   "metadata": {},
   "outputs": [],
   "source": [
    "!conda env config vars set MLFLOW_TRACKING_URI=https://<YOUR_APP_NAME>.rahtiapp.fi\n",
    "!conda env config vars set MLFLOW_TRACKING_USERNAME=your_username\n",
    "!conda env config vars set MLFLOW_TRACKING_PASSWORD=your_password\n",
    "\n",
    "!conda env config vars set MLFLOW_S3_ENDPOINT_URL=https://<YOUR_APP_NAME>-minio.rahtiapp.fi\n",
    "!conda env config vars set AWS_ACCESS_KEY_ID=your_generated_access_key\n",
    "!conda env config vars set AWS_SECRET_ACCESS_KEY=your_generated_secret_key"
   ]
  },
  {
   "cell_type": "markdown",
   "id": "7e287710-f272-440f-b2b7-b4bd8c36ff16",
   "metadata": {},
   "source": [
    "To make your changes take effect please reactivate your Conda environment. After that you can check everything is as it should with command:"
   ]
  },
  {
   "cell_type": "code",
   "execution_count": null,
   "id": "a54bfa44-25aa-499c-9b28-97654879dbed",
   "metadata": {},
   "outputs": [],
   "source": [
    "!conda env config vars list"
   ]
  },
  {
   "cell_type": "markdown",
   "id": "bcadbf27-4cb6-4d2c-b164-04ee36c3b354",
   "metadata": {},
   "source": [
    "## Step 2: import libraries\n",
    "This step requires that you have the packages installed in your environment before importing."
   ]
  },
  {
   "cell_type": "code",
   "execution_count": null,
   "id": "03bcf9c6-54ef-47c5-b2a3-222d4a74598a",
   "metadata": {},
   "outputs": [],
   "source": [
    "import mlflow\n",
    "import boto3\n",
    "\n",
    "from sklearn.model_selection import train_test_split\n",
    "from sklearn.datasets import load_diabetes\n",
    "from sklearn.ensemble import RandomForestRegressor"
   ]
  },
  {
   "cell_type": "markdown",
   "id": "d38d8453-3ff0-483b-91e6-981e589b3c79",
   "metadata": {},
   "source": [
    "## Step 3: run the model and store results to MLflow"
   ]
  },
  {
   "cell_type": "code",
   "execution_count": null,
   "id": "26ec2dea-15cf-42fb-adba-27bac380e647",
   "metadata": {},
   "outputs": [],
   "source": [
    "# Create new experiment, under which the runs are saved for \n",
    "experiment_id = mlflow.set_experiment('diabetes_dataset')\n",
    "print(experiment_id)"
   ]
  },
  {
   "cell_type": "code",
   "execution_count": null,
   "id": "fea70776-782f-4956-9b91-5e3e9aefd868",
   "metadata": {},
   "outputs": [],
   "source": [
    "with mlflow.start_run():\n",
    "\n",
    "    # Load and split data \n",
    "    db = load_diabetes()\n",
    "    X_train, X_test, y_train, y_test = train_test_split(db.data, db.target)\n",
    "    \n",
    "    # Set the parameters, change to see different results\n",
    "    n_estimators = 100\n",
    "    max_depth = 6\n",
    "    max_features = 3\n",
    "    \n",
    "    # Create and train model\n",
    "    rf = RandomForestRegressor(n_estimators=n_estimators, max_depth=max_depth, max_features=max_features)\n",
    "    rf.fit(X_train, y_train)\n",
    "    \n",
    "    # Use the model to make predictions on the test dataset\n",
    "    predictions = rf.predict(X_test)\n",
    "    print(predictions)\n",
    "    \n",
    "    mlflow.sklearn.log_model(rf, \"diabetes-model\")"
   ]
  },
  {
   "cell_type": "markdown",
   "id": "8b44129d-b8be-4d00-a07b-261602c16a80",
   "metadata": {},
   "source": [
    "Run metrics should appear in your MLflow Tracking server --> `https://<YOUR_APP_NAME>.rahtiapp.fi`"
   ]
  }
 ],
 "metadata": {
  "kernelspec": {
   "display_name": "Python 3 (ipykernel)",
   "language": "python",
   "name": "python3"
  },
  "language_info": {
   "codemirror_mode": {
    "name": "ipython",
    "version": 3
   },
   "file_extension": ".py",
   "mimetype": "text/x-python",
   "name": "python",
   "nbconvert_exporter": "python",
   "pygments_lexer": "ipython3",
   "version": "3.10.12"
  }
 },
 "nbformat": 4,
 "nbformat_minor": 5
}
