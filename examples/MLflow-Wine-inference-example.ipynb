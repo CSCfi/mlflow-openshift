{
 "cells": [
  {
   "cell_type": "markdown",
   "metadata": {},
   "source": [
    "# MLflow Wine - model inference example"
   ]
  },
  {
   "cell_type": "markdown",
   "metadata": {},
   "source": [
    "This notebook demonstrate how to use MLflow Models application in CSC Rahti container cloud to utilize trained machine learning model.\n",
    "\n",
    "After you have set up your MLflow application to Rahti, run **MLflow Wine - tracking example** at least once, and follow User Guide *MLflow Models* -section how to deploy trained model as service, you can use this notebook to test model."
   ]
  },
  {
   "cell_type": "markdown",
   "metadata": {},
   "source": [
    "---"
   ]
  },
  {
   "cell_type": "code",
   "execution_count": null,
   "metadata": {},
   "outputs": [],
   "source": [
    "import pandas as pd\n",
    "import requests "
   ]
  },
  {
   "cell_type": "markdown",
   "metadata": {},
   "source": [
    "Copy your models pod address from Rahti overview page as guided in User Guide."
   ]
  },
  {
   "cell_type": "code",
   "execution_count": null,
   "metadata": {},
   "outputs": [],
   "source": [
    "models_address = \"SET_YOUR_ADDRESS_HERE\"\n",
    "url = models_address + \"/invocations\" \n",
    "headers = {'Content-Type': 'application/json',} "
   ]
  },
  {
   "cell_type": "markdown",
   "metadata": {},
   "source": [
    "Load local test data and split it to test data and test labels "
   ]
  },
  {
   "cell_type": "code",
   "execution_count": null,
   "metadata": {},
   "outputs": [],
   "source": [
    "data = pd.read_csv('./wine-red-head.csv', sep=';')"
   ]
  },
  {
   "cell_type": "code",
   "execution_count": null,
   "metadata": {},
   "outputs": [],
   "source": [
    "data"
   ]
  },
  {
   "cell_type": "code",
   "execution_count": null,
   "metadata": {},
   "outputs": [],
   "source": [
    "test_data = data.loc[:,:'alcohol']\n",
    "test_data"
   ]
  },
  {
   "cell_type": "code",
   "execution_count": null,
   "metadata": {},
   "outputs": [],
   "source": [
    "test_labels = data.loc[:,'quality']\n",
    "test_labels"
   ]
  },
  {
   "cell_type": "markdown",
   "metadata": {},
   "source": [
    "Loop through test data and request prediction from MLflow Models service. Print prediction and true value."
   ]
  },
  {
   "cell_type": "code",
   "execution_count": null,
   "metadata": {},
   "outputs": [],
   "source": [
    "for j in range(len(test_data)):\n",
    "    http_data = test_data.loc[j:j , :].to_json(orient='split')\n",
    "    r = requests.post(url=url, headers=headers, data=http_data)\n",
    "    print('Prediction: \\t{}'.format(r.text))\n",
    "    print('Pred rounded: \\t{}'.format(int(round(float(r.text[1:5])))))\n",
    "    print(\"True value: \\t{}\".format(test_labels[j]))\n",
    "    print(\"\\n\")"
   ]
  }
 ],
 "metadata": {
  "kernelspec": {
   "display_name": "Python 3",
   "language": "python",
   "name": "python3"
  },
  "language_info": {
   "codemirror_mode": {
    "name": "ipython",
    "version": 3
   },
   "file_extension": ".py",
   "mimetype": "text/x-python",
   "name": "python",
   "nbconvert_exporter": "python",
   "pygments_lexer": "ipython3",
   "version": "3.7.6"
  }
 },
 "nbformat": 4,
 "nbformat_minor": 4
}
